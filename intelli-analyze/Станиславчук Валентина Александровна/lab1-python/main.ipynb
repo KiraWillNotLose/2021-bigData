{
 "cells": [
  {
   "cell_type": "markdown",
   "metadata": {},
   "source": [
    "*Импортируем модули*"
   ]
  },
  {
   "cell_type": "code",
   "execution_count": 17,
   "metadata": {},
   "outputs": [],
   "source": [
    "import pandas as pd"
   ]
  },
  {
   "cell_type": "markdown",
   "metadata": {},
   "source": [
    "*Загружаем данные*"
   ]
  },
  {
   "cell_type": "code",
   "execution_count": 18,
   "metadata": {},
   "outputs": [
    {
     "name": "stdout",
     "output_type": "stream",
     "text": [
      "Выборка для наглядности:\n"
     ]
    },
    {
     "data": {
      "text/html": [
       "<div>\n",
       "<style scoped>\n",
       "    .dataframe tbody tr th:only-of-type {\n",
       "        vertical-align: middle;\n",
       "    }\n",
       "\n",
       "    .dataframe tbody tr th {\n",
       "        vertical-align: top;\n",
       "    }\n",
       "\n",
       "    .dataframe thead th {\n",
       "        text-align: right;\n",
       "    }\n",
       "</style>\n",
       "<table border=\"1\" class=\"dataframe\">\n",
       "  <thead>\n",
       "    <tr style=\"text-align: right;\">\n",
       "      <th></th>\n",
       "      <th>Company (Maker-if known)</th>\n",
       "      <th>Specific Bean Originor Bar Name</th>\n",
       "      <th>REF</th>\n",
       "      <th>Review Date</th>\n",
       "      <th>Cocoa Percent</th>\n",
       "      <th>Company Location</th>\n",
       "      <th>Rating</th>\n",
       "      <th>Bean Type</th>\n",
       "      <th>Broad Bean Origin</th>\n",
       "    </tr>\n",
       "  </thead>\n",
       "  <tbody>\n",
       "    <tr>\n",
       "      <th>0</th>\n",
       "      <td>A. Morin</td>\n",
       "      <td>Agua Grande</td>\n",
       "      <td>1876</td>\n",
       "      <td>2016</td>\n",
       "      <td>63%</td>\n",
       "      <td>France</td>\n",
       "      <td>3.75</td>\n",
       "      <td></td>\n",
       "      <td>Sao Tome</td>\n",
       "    </tr>\n",
       "    <tr>\n",
       "      <th>1</th>\n",
       "      <td>A. Morin</td>\n",
       "      <td>Kpime</td>\n",
       "      <td>1676</td>\n",
       "      <td>2015</td>\n",
       "      <td>70%</td>\n",
       "      <td>France</td>\n",
       "      <td>2.75</td>\n",
       "      <td></td>\n",
       "      <td>Togo</td>\n",
       "    </tr>\n",
       "    <tr>\n",
       "      <th>2</th>\n",
       "      <td>A. Morin</td>\n",
       "      <td>Atsane</td>\n",
       "      <td>1676</td>\n",
       "      <td>2015</td>\n",
       "      <td>70%</td>\n",
       "      <td>France</td>\n",
       "      <td>3.00</td>\n",
       "      <td></td>\n",
       "      <td>Togo</td>\n",
       "    </tr>\n",
       "    <tr>\n",
       "      <th>3</th>\n",
       "      <td>A. Morin</td>\n",
       "      <td>Akata</td>\n",
       "      <td>1680</td>\n",
       "      <td>2015</td>\n",
       "      <td>70%</td>\n",
       "      <td>France</td>\n",
       "      <td>3.50</td>\n",
       "      <td></td>\n",
       "      <td>Togo</td>\n",
       "    </tr>\n",
       "    <tr>\n",
       "      <th>4</th>\n",
       "      <td>A. Morin</td>\n",
       "      <td>Quilla</td>\n",
       "      <td>1704</td>\n",
       "      <td>2015</td>\n",
       "      <td>70%</td>\n",
       "      <td>France</td>\n",
       "      <td>3.50</td>\n",
       "      <td></td>\n",
       "      <td>Peru</td>\n",
       "    </tr>\n",
       "    <tr>\n",
       "      <th>...</th>\n",
       "      <td>...</td>\n",
       "      <td>...</td>\n",
       "      <td>...</td>\n",
       "      <td>...</td>\n",
       "      <td>...</td>\n",
       "      <td>...</td>\n",
       "      <td>...</td>\n",
       "      <td>...</td>\n",
       "      <td>...</td>\n",
       "    </tr>\n",
       "    <tr>\n",
       "      <th>1790</th>\n",
       "      <td>Zotter</td>\n",
       "      <td>Peru</td>\n",
       "      <td>647</td>\n",
       "      <td>2011</td>\n",
       "      <td>70%</td>\n",
       "      <td>Austria</td>\n",
       "      <td>3.75</td>\n",
       "      <td></td>\n",
       "      <td>Peru</td>\n",
       "    </tr>\n",
       "    <tr>\n",
       "      <th>1791</th>\n",
       "      <td>Zotter</td>\n",
       "      <td>Congo</td>\n",
       "      <td>749</td>\n",
       "      <td>2011</td>\n",
       "      <td>65%</td>\n",
       "      <td>Austria</td>\n",
       "      <td>3.00</td>\n",
       "      <td>Forastero</td>\n",
       "      <td>Congo</td>\n",
       "    </tr>\n",
       "    <tr>\n",
       "      <th>1792</th>\n",
       "      <td>Zotter</td>\n",
       "      <td>Kerala State</td>\n",
       "      <td>749</td>\n",
       "      <td>2011</td>\n",
       "      <td>65%</td>\n",
       "      <td>Austria</td>\n",
       "      <td>3.50</td>\n",
       "      <td>Forastero</td>\n",
       "      <td>India</td>\n",
       "    </tr>\n",
       "    <tr>\n",
       "      <th>1793</th>\n",
       "      <td>Zotter</td>\n",
       "      <td>Kerala State</td>\n",
       "      <td>781</td>\n",
       "      <td>2011</td>\n",
       "      <td>62%</td>\n",
       "      <td>Austria</td>\n",
       "      <td>3.25</td>\n",
       "      <td></td>\n",
       "      <td>India</td>\n",
       "    </tr>\n",
       "    <tr>\n",
       "      <th>1794</th>\n",
       "      <td>Zotter</td>\n",
       "      <td>Brazil, Mitzi Blue</td>\n",
       "      <td>486</td>\n",
       "      <td>2010</td>\n",
       "      <td>65%</td>\n",
       "      <td>Austria</td>\n",
       "      <td>3.00</td>\n",
       "      <td></td>\n",
       "      <td>Brazil</td>\n",
       "    </tr>\n",
       "  </tbody>\n",
       "</table>\n",
       "<p>1795 rows × 9 columns</p>\n",
       "</div>"
      ],
      "text/plain": [
       "     Company (Maker-if known) Specific Bean Originor Bar Name   REF  \\\n",
       "0                    A. Morin                     Agua Grande  1876   \n",
       "1                    A. Morin                           Kpime  1676   \n",
       "2                    A. Morin                          Atsane  1676   \n",
       "3                    A. Morin                           Akata  1680   \n",
       "4                    A. Morin                          Quilla  1704   \n",
       "...                       ...                             ...   ...   \n",
       "1790                   Zotter                            Peru   647   \n",
       "1791                   Zotter                           Congo   749   \n",
       "1792                   Zotter                    Kerala State   749   \n",
       "1793                   Zotter                    Kerala State   781   \n",
       "1794                   Zotter              Brazil, Mitzi Blue   486   \n",
       "\n",
       "      Review Date Cocoa Percent Company Location  Rating  Bean Type  \\\n",
       "0            2016           63%           France    3.75              \n",
       "1            2015           70%           France    2.75              \n",
       "2            2015           70%           France    3.00              \n",
       "3            2015           70%           France    3.50              \n",
       "4            2015           70%           France    3.50              \n",
       "...           ...           ...              ...     ...        ...   \n",
       "1790         2011           70%          Austria    3.75              \n",
       "1791         2011           65%          Austria    3.00  Forastero   \n",
       "1792         2011           65%          Austria    3.50  Forastero   \n",
       "1793         2011           62%          Austria    3.25              \n",
       "1794         2010           65%          Austria    3.00              \n",
       "\n",
       "     Broad Bean Origin  \n",
       "0             Sao Tome  \n",
       "1                 Togo  \n",
       "2                 Togo  \n",
       "3                 Togo  \n",
       "4                 Peru  \n",
       "...                ...  \n",
       "1790              Peru  \n",
       "1791             Congo  \n",
       "1792             India  \n",
       "1793             India  \n",
       "1794            Brazil  \n",
       "\n",
       "[1795 rows x 9 columns]"
      ]
     },
     "execution_count": 18,
     "metadata": {},
     "output_type": "execute_result"
    }
   ],
   "source": [
    "df = pd.read_csv('data/flavors_of_cacao.csv', delimiter=',')\n",
    "\n",
    "print('Выборка для наглядности:')\n",
    "df"
   ]
  },
  {
   "cell_type": "markdown",
   "metadata": {},
   "source": [
    "**Задание 1.** Сгруппировать оценки по:"
   ]
  },
  {
   "cell_type": "markdown",
   "metadata": {},
   "source": [
    "*a) Годам проведения дегустации (Review Date)*"
   ]
  },
  {
   "cell_type": "code",
   "execution_count": 19,
   "metadata": {},
   "outputs": [
    {
     "data": {
      "text/plain": [
       "Review Date\n",
       "2006    3.00\n",
       "2007    3.00\n",
       "2008    3.00\n",
       "2009    3.00\n",
       "2010    3.25\n",
       "2011    3.25\n",
       "2012    3.25\n",
       "2013    3.25\n",
       "2014    3.25\n",
       "2015    3.25\n",
       "2016    3.25\n",
       "2017    3.50\n",
       "Name: Rating, dtype: float64"
      ]
     },
     "execution_count": 19,
     "metadata": {},
     "output_type": "execute_result"
    }
   ],
   "source": [
    "df.groupby(\"Review Date\")[\"Rating\"].var()\n",
    "df.groupby(\"Review Date\")[\"Rating\"].std()\n",
    "df.groupby(\"Review Date\")[\"Rating\"].mean()\n",
    "df.groupby(\"Review Date\")[\"Rating\"].median()"
   ]
  },
  {
   "cell_type": "markdown",
   "metadata": {},
   "source": [
    "*b) Первой цифре поля REF*"
   ]
  },
  {
   "cell_type": "code",
   "execution_count": 20,
   "metadata": {},
   "outputs": [
    {
     "data": {
      "text/plain": [
       "1    3.25\n",
       "2    3.00\n",
       "3    3.00\n",
       "4    3.00\n",
       "5    3.25\n",
       "6    3.25\n",
       "7    3.25\n",
       "8    3.25\n",
       "9    3.25\n",
       "Name: Rating, dtype: float64"
      ]
     },
     "execution_count": 20,
     "metadata": {},
     "output_type": "execute_result"
    }
   ],
   "source": [
    "df.groupby([str(w)[0] for w in df[\"REF\"]])[\"Rating\"].var()\n",
    "df.groupby([str(w)[0] for w in df[\"REF\"]])[\"Rating\"].std()\n",
    "df.groupby([str(w)[0] for w in df[\"REF\"]])[\"Rating\"].mean()\n",
    "df.groupby([str(w)[0] for w in df[\"REF\"]])[\"Rating\"].median()"
   ]
  },
  {
   "cell_type": "markdown",
   "metadata": {},
   "source": [
    "*c) Стране компании (Company Location)*"
   ]
  },
  {
   "cell_type": "code",
   "execution_count": 21,
   "metadata": {},
   "outputs": [
    {
     "data": {
      "text/plain": [
       "Company Location\n",
       "Amsterdam            3.500\n",
       "Argentina            3.500\n",
       "Australia            3.500\n",
       "Austria              3.250\n",
       "Belgium              3.250\n",
       "Bolivia              3.250\n",
       "Brazil               3.500\n",
       "Canada               3.250\n",
       "Chile                3.750\n",
       "Colombia             3.250\n",
       "Costa Rica           3.250\n",
       "Czech Republic       2.750\n",
       "Denmark              3.250\n",
       "Domincan Republic    3.250\n",
       "Ecuador              3.000\n",
       "Eucador              3.000\n",
       "Fiji                 3.375\n",
       "Finland              3.250\n",
       "France               3.250\n",
       "Germany              3.250\n",
       "Ghana                2.750\n",
       "Grenada              2.750\n",
       "Guatemala            3.250\n",
       "Honduras             3.250\n",
       "Hungary              3.250\n",
       "Iceland              3.500\n",
       "India                2.500\n",
       "Ireland              2.750\n",
       "Israel               3.500\n",
       "Italy                3.250\n",
       "Japan                3.000\n",
       "Lithuania            3.125\n",
       "Madagascar           3.250\n",
       "Martinique           2.750\n",
       "Mexico               2.875\n",
       "Netherlands          3.500\n",
       "New Zealand          3.250\n",
       "Niacragua            2.750\n",
       "Nicaragua            3.000\n",
       "Peru                 3.000\n",
       "Philippines          3.500\n",
       "Poland               3.500\n",
       "Portugal             2.750\n",
       "Puerto Rico          2.625\n",
       "Russia               3.250\n",
       "Sao Tome             3.375\n",
       "Scotland             3.500\n",
       "Singapore            3.500\n",
       "South Africa         2.500\n",
       "South Korea          3.250\n",
       "Spain                3.250\n",
       "St. Lucia            3.000\n",
       "Suriname             3.250\n",
       "Sweden               3.000\n",
       "Switzerland          3.250\n",
       "U.K.                 3.000\n",
       "U.S.A.               3.250\n",
       "Venezuela            3.250\n",
       "Vietnam              3.500\n",
       "Wales                2.750\n",
       "Name: Rating, dtype: float64"
      ]
     },
     "execution_count": 21,
     "metadata": {},
     "output_type": "execute_result"
    }
   ],
   "source": [
    "df.groupby(\"Company Location\")[\"Rating\"].var()\n",
    "df.groupby(\"Company Location\")[\"Rating\"].std()\n",
    "df.groupby(\"Company Location\")[\"Rating\"].mean()\n",
    "df.groupby(\"Company Location\")[\"Rating\"].median()"
   ]
  },
  {
   "cell_type": "markdown",
   "metadata": {},
   "source": [
    "*d) Происхождению какао-бобов (Broad Bean Origin)*"
   ]
  },
  {
   "cell_type": "code",
   "execution_count": 22,
   "metadata": {},
   "outputs": [
    {
     "data": {
      "text/plain": [
       "Broad Bean Origin\n",
       "Africa, Carribean, C. Am.    2.750\n",
       "Australia                    3.250\n",
       "Belize                       3.250\n",
       "Bolivia                      3.250\n",
       "Brazil                       3.375\n",
       "                             ...  \n",
       "Venezuela, Trinidad          2.500\n",
       "Venezuela/ Ghana             3.500\n",
       "Vietnam                      3.375\n",
       "West Africa                  2.625\n",
       "                             3.000\n",
       "Name: Rating, Length: 100, dtype: float64"
      ]
     },
     "execution_count": 22,
     "metadata": {},
     "output_type": "execute_result"
    }
   ],
   "source": [
    "df.groupby(\"Broad Bean Origin\")[\"Rating\"].var()\n",
    "df.groupby(\"Broad Bean Origin\")[\"Rating\"].std()\n",
    "df.groupby(\"Broad Bean Origin\")[\"Rating\"].mean()\n",
    "df.groupby(\"Broad Bean Origin\")[\"Rating\"].median()"
   ]
  },
  {
   "cell_type": "markdown",
   "metadata": {},
   "source": [
    "Общие дисперсия, СКО, среднее, медиана"
   ]
  },
  {
   "cell_type": "code",
   "execution_count": 23,
   "metadata": {},
   "outputs": [
    {
     "data": {
      "text/plain": [
       "3.25"
      ]
     },
     "execution_count": 23,
     "metadata": {},
     "output_type": "execute_result"
    }
   ],
   "source": [
    "df[\"Rating\"].var()\n",
    "df[\"Rating\"].std()\n",
    "df[\"Rating\"].mean()\n",
    "df[\"Rating\"].median()"
   ]
  },
  {
   "cell_type": "markdown",
   "metadata": {},
   "source": [
    "**Задание 3**. Оценить величины дисперсии и размаха (max-min) рейтинга (Rating) для различного содержания какао в процентах (Cocoa Percent)"
   ]
  },
  {
   "cell_type": "code",
   "execution_count": 24,
   "metadata": {},
   "outputs": [
    {
     "data": {
      "text/plain": [
       "Cocoa Percent\n",
       "100%     0.480263\n",
       "42%           NaN\n",
       "46%           NaN\n",
       "50%           NaN\n",
       "53%           NaN\n",
       "55%      0.133073\n",
       "56%      0.000000\n",
       "57%           NaN\n",
       "58%      0.178571\n",
       "60%      0.132406\n",
       "60.5%         NaN\n",
       "61%      0.150670\n",
       "62%      0.296703\n",
       "63%      0.130208\n",
       "64%      0.178253\n",
       "65%      0.193983\n",
       "66%      0.135623\n",
       "67%      0.308939\n",
       "68%      0.184725\n",
       "69%      0.166667\n",
       "70%      0.205170\n",
       "71%      0.218952\n",
       "72%      0.195574\n",
       "72.5%    0.083333\n",
       "73%      0.356410\n",
       "73.5%    0.781250\n",
       "74%      0.202577\n",
       "75%      0.216502\n",
       "76%      0.209980\n",
       "77%      0.164181\n",
       "78%      0.233915\n",
       "79%           NaN\n",
       "80%      0.145344\n",
       "81%      0.331250\n",
       "82%      0.199449\n",
       "83%      0.140625\n",
       "84%      0.307292\n",
       "85%      0.214087\n",
       "86%           NaN\n",
       "87%           NaN\n",
       "88%      0.150670\n",
       "89%      0.031250\n",
       "90%      0.293527\n",
       "91%      0.583333\n",
       "99%      0.781250\n",
       "Name: Rating, dtype: float64"
      ]
     },
     "execution_count": 24,
     "metadata": {},
     "output_type": "execute_result"
    }
   ],
   "source": [
    "df.groupby(\"Cocoa Percent\")[\"Rating\"].max() - df.groupby(\"Cocoa Percent\")[\"Rating\"].min()\n",
    "df.groupby(\"Cocoa Percent\")[\"Rating\"].var()"
   ]
  }
 ],
 "metadata": {
  "interpreter": {
   "hash": "e6af04da90447f1467769b899b9685624f68d319964d18f2952ce634804d1582"
  },
  "kernelspec": {
   "display_name": "Python 3.10.3 ('env': venv)",
   "language": "python",
   "name": "python3"
  },
  "language_info": {
   "codemirror_mode": {
    "name": "ipython",
    "version": 3
   },
   "file_extension": ".py",
   "mimetype": "text/x-python",
   "name": "python",
   "nbconvert_exporter": "python",
   "pygments_lexer": "ipython3",
   "version": "3.10.4"
  },
  "orig_nbformat": 4
 },
 "nbformat": 4,
 "nbformat_minor": 2
}
